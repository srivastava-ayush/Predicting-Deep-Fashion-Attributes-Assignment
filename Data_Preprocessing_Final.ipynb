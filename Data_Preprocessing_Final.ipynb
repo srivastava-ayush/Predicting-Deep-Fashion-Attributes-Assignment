{
 "cells": [
  {
   "cell_type": "code",
   "execution_count": 33,
   "metadata": {},
   "outputs": [],
   "source": [
    "#import necessary libraries \n",
    "import pandas as pd \n",
    "import os\n",
    "import cv2 as cv\n",
    "import numpy as np"
   ]
  },
  {
   "cell_type": "code",
   "execution_count": 34,
   "metadata": {},
   "outputs": [],
   "source": [
    "#load attributes csv in pandas dataframe\n",
    "attributes = pd.read_csv('attributes.csv')"
   ]
  },
  {
   "cell_type": "code",
   "execution_count": 35,
   "metadata": {},
   "outputs": [
    {
     "data": {
      "text/html": [
       "<div>\n",
       "<style scoped>\n",
       "    .dataframe tbody tr th:only-of-type {\n",
       "        vertical-align: middle;\n",
       "    }\n",
       "\n",
       "    .dataframe tbody tr th {\n",
       "        vertical-align: top;\n",
       "    }\n",
       "\n",
       "    .dataframe thead th {\n",
       "        text-align: right;\n",
       "    }\n",
       "</style>\n",
       "<table border=\"1\" class=\"dataframe\">\n",
       "  <thead>\n",
       "    <tr style=\"text-align: right;\">\n",
       "      <th></th>\n",
       "      <th>filename</th>\n",
       "      <th>neck</th>\n",
       "      <th>sleeve_length</th>\n",
       "      <th>pattern</th>\n",
       "    </tr>\n",
       "  </thead>\n",
       "  <tbody>\n",
       "    <tr>\n",
       "      <th>0</th>\n",
       "      <td>cdc8cd2a-0938-4970-a3b5-f5ed9595222c1527925869...</td>\n",
       "      <td>6.0</td>\n",
       "      <td>NaN</td>\n",
       "      <td>4.0</td>\n",
       "    </tr>\n",
       "    <tr>\n",
       "      <th>1</th>\n",
       "      <td>11469770662809-Metersbonwe-Navy-T-shirt-485146...</td>\n",
       "      <td>5.0</td>\n",
       "      <td>3.0</td>\n",
       "      <td>9.0</td>\n",
       "    </tr>\n",
       "    <tr>\n",
       "      <th>2</th>\n",
       "      <td>11479107741104-Tommy-Hilfiger-Men-Navy-Blue-St...</td>\n",
       "      <td>6.0</td>\n",
       "      <td>1.0</td>\n",
       "      <td>9.0</td>\n",
       "    </tr>\n",
       "    <tr>\n",
       "      <th>3</th>\n",
       "      <td>f7ad67ab-eeb1-4449-8f63-7b580d2797e71532342804...</td>\n",
       "      <td>NaN</td>\n",
       "      <td>0.0</td>\n",
       "      <td>9.0</td>\n",
       "    </tr>\n",
       "    <tr>\n",
       "      <th>4</th>\n",
       "      <td>11516770810185-Splash-Men-Tshirts-767151677081...</td>\n",
       "      <td>6.0</td>\n",
       "      <td>3.0</td>\n",
       "      <td>9.0</td>\n",
       "    </tr>\n",
       "    <tr>\n",
       "      <th>...</th>\n",
       "      <td>...</td>\n",
       "      <td>...</td>\n",
       "      <td>...</td>\n",
       "      <td>...</td>\n",
       "    </tr>\n",
       "    <tr>\n",
       "      <th>2233</th>\n",
       "      <td>11507360109998-Nautica-Men-Blue-Striped-V-Neck...</td>\n",
       "      <td>5.0</td>\n",
       "      <td>3.0</td>\n",
       "      <td>9.0</td>\n",
       "    </tr>\n",
       "    <tr>\n",
       "      <th>2234</th>\n",
       "      <td>8f236dcd-4a2b-49ff-9229-981e7db946f91537273774...</td>\n",
       "      <td>6.0</td>\n",
       "      <td>NaN</td>\n",
       "      <td>5.0</td>\n",
       "    </tr>\n",
       "    <tr>\n",
       "      <th>2235</th>\n",
       "      <td>15cb873b-993c-422c-b9c1-96d59580fbae1535360301...</td>\n",
       "      <td>6.0</td>\n",
       "      <td>3.0</td>\n",
       "      <td>3.0</td>\n",
       "    </tr>\n",
       "    <tr>\n",
       "      <th>2236</th>\n",
       "      <td>bf72a615-0db6-4400-903b-6c2aa1e5831d1530608800...</td>\n",
       "      <td>6.0</td>\n",
       "      <td>3.0</td>\n",
       "      <td>1.0</td>\n",
       "    </tr>\n",
       "    <tr>\n",
       "      <th>2237</th>\n",
       "      <td>4654fc4c-76ca-43e0-b6ff-91615995d32b1527167420...</td>\n",
       "      <td>2.0</td>\n",
       "      <td>3.0</td>\n",
       "      <td>9.0</td>\n",
       "    </tr>\n",
       "  </tbody>\n",
       "</table>\n",
       "<p>2238 rows × 4 columns</p>\n",
       "</div>"
      ],
      "text/plain": [
       "                                               filename  neck  sleeve_length  \\\n",
       "0     cdc8cd2a-0938-4970-a3b5-f5ed9595222c1527925869...   6.0            NaN   \n",
       "1     11469770662809-Metersbonwe-Navy-T-shirt-485146...   5.0            3.0   \n",
       "2     11479107741104-Tommy-Hilfiger-Men-Navy-Blue-St...   6.0            1.0   \n",
       "3     f7ad67ab-eeb1-4449-8f63-7b580d2797e71532342804...   NaN            0.0   \n",
       "4     11516770810185-Splash-Men-Tshirts-767151677081...   6.0            3.0   \n",
       "...                                                 ...   ...            ...   \n",
       "2233  11507360109998-Nautica-Men-Blue-Striped-V-Neck...   5.0            3.0   \n",
       "2234  8f236dcd-4a2b-49ff-9229-981e7db946f91537273774...   6.0            NaN   \n",
       "2235  15cb873b-993c-422c-b9c1-96d59580fbae1535360301...   6.0            3.0   \n",
       "2236  bf72a615-0db6-4400-903b-6c2aa1e5831d1530608800...   6.0            3.0   \n",
       "2237  4654fc4c-76ca-43e0-b6ff-91615995d32b1527167420...   2.0            3.0   \n",
       "\n",
       "      pattern  \n",
       "0         4.0  \n",
       "1         9.0  \n",
       "2         9.0  \n",
       "3         9.0  \n",
       "4         9.0  \n",
       "...       ...  \n",
       "2233      9.0  \n",
       "2234      5.0  \n",
       "2235      3.0  \n",
       "2236      1.0  \n",
       "2237      9.0  \n",
       "\n",
       "[2238 rows x 4 columns]"
      ]
     },
     "execution_count": 35,
     "metadata": {},
     "output_type": "execute_result"
    }
   ],
   "source": [
    "attributes"
   ]
  },
  {
   "cell_type": "code",
   "execution_count": 36,
   "metadata": {},
   "outputs": [
    {
     "data": {
      "text/plain": [
       "filename         ffb8b81b-e9a3-44d7-ac7a-1699d43be4f11530878498...\n",
       "neck                                                             6\n",
       "sleeve_length                                                    3\n",
       "pattern                                                          9\n",
       "dtype: object"
      ]
     },
     "execution_count": 36,
     "metadata": {},
     "output_type": "execute_result"
    }
   ],
   "source": [
    "#check for number of classes in each attributes\n",
    "attributes.max()"
   ]
  },
  {
   "cell_type": "code",
   "execution_count": 37,
   "metadata": {},
   "outputs": [
    {
     "data": {
      "text/plain": [
       "filename           0\n",
       "neck             455\n",
       "sleeve_length    452\n",
       "pattern          447\n",
       "dtype: int64"
      ]
     },
     "execution_count": 37,
     "metadata": {},
     "output_type": "execute_result"
    }
   ],
   "source": [
    "#check for NaN values\n",
    "attributes.isnull().sum()"
   ]
  },
  {
   "cell_type": "code",
   "execution_count": 38,
   "metadata": {},
   "outputs": [],
   "source": [
    "#since a large number of NaN values are present hence it is not possible drop them, also can't fill with most frequent class\n",
    "#as that will increase bias against minority classes, randomly fill NaN values with value(except majority class to decrease bias)\n",
    "attributes['neck'].fillna(value = np.random.randint(0,5), inplace = True)\n",
    "attributes['sleeve_length'].fillna(value = np.random.randint(0,2), inplace = True)\n",
    "attributes['pattern'].fillna(value = np.random.randint(0,8), inplace =True)"
   ]
  },
  {
   "cell_type": "code",
   "execution_count": 39,
   "metadata": {},
   "outputs": [
    {
     "data": {
      "text/plain": [
       "filename         0\n",
       "neck             0\n",
       "sleeve_length    0\n",
       "pattern          0\n",
       "dtype: int64"
      ]
     },
     "execution_count": 39,
     "metadata": {},
     "output_type": "execute_result"
    }
   ],
   "source": [
    "attributes.isna().sum()"
   ]
  },
  {
   "cell_type": "code",
   "execution_count": 40,
   "metadata": {},
   "outputs": [
    {
     "data": {
      "text/plain": [
       "(6.0    1016\n",
       " 1.0     591\n",
       " 4.0     134\n",
       " 2.0     132\n",
       " 0.0     125\n",
       " 5.0     125\n",
       " 3.0     115\n",
       " Name: neck, dtype: int64,\n",
       " 3.0    1369\n",
       " 1.0     592\n",
       " 2.0     148\n",
       " 0.0     129\n",
       " Name: sleeve_length, dtype: int64,\n",
       " 9.0    1467\n",
       " 1.0     484\n",
       " 6.0      52\n",
       " 3.0      46\n",
       " 5.0      38\n",
       " 4.0      37\n",
       " 7.0      32\n",
       " 8.0      32\n",
       " 2.0      29\n",
       " 0.0      21\n",
       " Name: pattern, dtype: int64)"
      ]
     },
     "execution_count": 40,
     "metadata": {},
     "output_type": "execute_result"
    }
   ],
   "source": [
    "#number of sample of each class for each attribute\n",
    "attributes['neck'].value_counts(), attributes['sleeve_length'].value_counts(), attributes['pattern'].value_counts()"
   ]
  },
  {
   "cell_type": "code",
   "execution_count": 41,
   "metadata": {},
   "outputs": [],
   "source": [
    "#first 2 classes  in each attribute are creating bias, drop rows with any one of these values for each attribute\n",
    "#to reduce bias\n",
    "for index in attributes.index:\n",
    "    if (attributes['neck'][index] == 6.0 or attributes['neck'][index] == 1.0)  and (attributes['sleeve_length'][index] == 3.0 or attributes['sleeve_length'][index] == 1.0) and (attributes['pattern'][index] == 9.0 or attributes['pattern'][index] == 1.0):\n",
    "        attributes.drop(index, axis = 0, inplace = True)"
   ]
  },
  {
   "cell_type": "code",
   "execution_count": 42,
   "metadata": {},
   "outputs": [
    {
     "data": {
      "text/plain": [
       "(6.0    420\n",
       " 1.0    144\n",
       " 4.0    134\n",
       " 2.0    132\n",
       " 0.0    125\n",
       " 5.0    125\n",
       " 3.0    115\n",
       " Name: neck, dtype: int64,\n",
       " 3.0    720\n",
       " 1.0    198\n",
       " 2.0    148\n",
       " 0.0    129\n",
       " Name: sleeve_length, dtype: int64,\n",
       " 9.0    722\n",
       " 1.0    186\n",
       " 6.0     52\n",
       " 3.0     46\n",
       " 5.0     38\n",
       " 4.0     37\n",
       " 7.0     32\n",
       " 8.0     32\n",
       " 2.0     29\n",
       " 0.0     21\n",
       " Name: pattern, dtype: int64)"
      ]
     },
     "execution_count": 42,
     "metadata": {},
     "output_type": "execute_result"
    }
   ],
   "source": [
    "attributes['neck'].value_counts(), attributes['sleeve_length'].value_counts(), attributes['pattern'].value_counts()"
   ]
  },
  {
   "cell_type": "code",
   "execution_count": 43,
   "metadata": {},
   "outputs": [
    {
     "data": {
      "text/html": [
       "<div>\n",
       "<style scoped>\n",
       "    .dataframe tbody tr th:only-of-type {\n",
       "        vertical-align: middle;\n",
       "    }\n",
       "\n",
       "    .dataframe tbody tr th {\n",
       "        vertical-align: top;\n",
       "    }\n",
       "\n",
       "    .dataframe thead th {\n",
       "        text-align: right;\n",
       "    }\n",
       "</style>\n",
       "<table border=\"1\" class=\"dataframe\">\n",
       "  <thead>\n",
       "    <tr style=\"text-align: right;\">\n",
       "      <th></th>\n",
       "      <th>filename</th>\n",
       "      <th>neck</th>\n",
       "      <th>sleeve_length</th>\n",
       "      <th>pattern</th>\n",
       "    </tr>\n",
       "  </thead>\n",
       "  <tbody>\n",
       "    <tr>\n",
       "      <th>0</th>\n",
       "      <td>cdc8cd2a-0938-4970-a3b5-f5ed9595222c1527925869...</td>\n",
       "      <td>6.0</td>\n",
       "      <td>1.0</td>\n",
       "      <td>4.0</td>\n",
       "    </tr>\n",
       "    <tr>\n",
       "      <th>1</th>\n",
       "      <td>11469770662809-Metersbonwe-Navy-T-shirt-485146...</td>\n",
       "      <td>5.0</td>\n",
       "      <td>3.0</td>\n",
       "      <td>9.0</td>\n",
       "    </tr>\n",
       "    <tr>\n",
       "      <th>3</th>\n",
       "      <td>f7ad67ab-eeb1-4449-8f63-7b580d2797e71532342804...</td>\n",
       "      <td>1.0</td>\n",
       "      <td>0.0</td>\n",
       "      <td>9.0</td>\n",
       "    </tr>\n",
       "    <tr>\n",
       "      <th>6</th>\n",
       "      <td>11519111005679-United-Colors-of-Benetton-Men-B...</td>\n",
       "      <td>5.0</td>\n",
       "      <td>3.0</td>\n",
       "      <td>9.0</td>\n",
       "    </tr>\n",
       "    <tr>\n",
       "      <th>7</th>\n",
       "      <td>11461827372049-US-Polo-Assn-Navy-T-shirt-20714...</td>\n",
       "      <td>5.0</td>\n",
       "      <td>3.0</td>\n",
       "      <td>9.0</td>\n",
       "    </tr>\n",
       "    <tr>\n",
       "      <th>...</th>\n",
       "      <td>...</td>\n",
       "      <td>...</td>\n",
       "      <td>...</td>\n",
       "      <td>...</td>\n",
       "    </tr>\n",
       "    <tr>\n",
       "      <th>2232</th>\n",
       "      <td>11495782729779-Roadster-Men-Black-Printed-V-Ne...</td>\n",
       "      <td>5.0</td>\n",
       "      <td>3.0</td>\n",
       "      <td>9.0</td>\n",
       "    </tr>\n",
       "    <tr>\n",
       "      <th>2233</th>\n",
       "      <td>11507360109998-Nautica-Men-Blue-Striped-V-Neck...</td>\n",
       "      <td>5.0</td>\n",
       "      <td>3.0</td>\n",
       "      <td>9.0</td>\n",
       "    </tr>\n",
       "    <tr>\n",
       "      <th>2234</th>\n",
       "      <td>8f236dcd-4a2b-49ff-9229-981e7db946f91537273774...</td>\n",
       "      <td>6.0</td>\n",
       "      <td>1.0</td>\n",
       "      <td>5.0</td>\n",
       "    </tr>\n",
       "    <tr>\n",
       "      <th>2235</th>\n",
       "      <td>15cb873b-993c-422c-b9c1-96d59580fbae1535360301...</td>\n",
       "      <td>6.0</td>\n",
       "      <td>3.0</td>\n",
       "      <td>3.0</td>\n",
       "    </tr>\n",
       "    <tr>\n",
       "      <th>2237</th>\n",
       "      <td>4654fc4c-76ca-43e0-b6ff-91615995d32b1527167420...</td>\n",
       "      <td>2.0</td>\n",
       "      <td>3.0</td>\n",
       "      <td>9.0</td>\n",
       "    </tr>\n",
       "  </tbody>\n",
       "</table>\n",
       "<p>1195 rows × 4 columns</p>\n",
       "</div>"
      ],
      "text/plain": [
       "                                               filename  neck  sleeve_length  \\\n",
       "0     cdc8cd2a-0938-4970-a3b5-f5ed9595222c1527925869...   6.0            1.0   \n",
       "1     11469770662809-Metersbonwe-Navy-T-shirt-485146...   5.0            3.0   \n",
       "3     f7ad67ab-eeb1-4449-8f63-7b580d2797e71532342804...   1.0            0.0   \n",
       "6     11519111005679-United-Colors-of-Benetton-Men-B...   5.0            3.0   \n",
       "7     11461827372049-US-Polo-Assn-Navy-T-shirt-20714...   5.0            3.0   \n",
       "...                                                 ...   ...            ...   \n",
       "2232  11495782729779-Roadster-Men-Black-Printed-V-Ne...   5.0            3.0   \n",
       "2233  11507360109998-Nautica-Men-Blue-Striped-V-Neck...   5.0            3.0   \n",
       "2234  8f236dcd-4a2b-49ff-9229-981e7db946f91537273774...   6.0            1.0   \n",
       "2235  15cb873b-993c-422c-b9c1-96d59580fbae1535360301...   6.0            3.0   \n",
       "2237  4654fc4c-76ca-43e0-b6ff-91615995d32b1527167420...   2.0            3.0   \n",
       "\n",
       "      pattern  \n",
       "0         4.0  \n",
       "1         9.0  \n",
       "3         9.0  \n",
       "6         9.0  \n",
       "7         9.0  \n",
       "...       ...  \n",
       "2232      9.0  \n",
       "2233      9.0  \n",
       "2234      5.0  \n",
       "2235      3.0  \n",
       "2237      9.0  \n",
       "\n",
       "[1195 rows x 4 columns]"
      ]
     },
     "execution_count": 43,
     "metadata": {},
     "output_type": "execute_result"
    }
   ],
   "source": [
    "#1195 rows left out of which, images aren't available for all\n",
    "attributes"
   ]
  },
  {
   "cell_type": "code",
   "execution_count": 44,
   "metadata": {},
   "outputs": [],
   "source": [
    "#split into train, test, val\n",
    "x_train = []\n",
    "x_test = []\n",
    "x_val =[]\n",
    "train_attributes = pd.DataFrame(columns = attributes.columns)\n",
    "test_attributes = pd.DataFrame(columns = attributes.columns)\n",
    "val_attributes = pd.DataFrame(columns = attributes.columns)"
   ]
  },
  {
   "cell_type": "code",
   "execution_count": 45,
   "metadata": {},
   "outputs": [],
   "source": [
    "#split into individual folders of train test and val, and CSVs of train test and val\n",
    "train_count = 1\n",
    "test_count = 1\n",
    "val_count = 1\n",
    "path_train = './split_data/train'\n",
    "path_val = './split_data/val'\n",
    "path_test = './split_data/test'\n",
    "for img in os.listdir('./images'):\n",
    "    img_ = cv.imread(os.path.join('./images', img), 1)\n",
    "    temp = attributes[attributes['filename'] == img].index\n",
    "    if len(temp) == 0:\n",
    "        continue\n",
    "    if len(temp) > 1:\n",
    "        temp = temp[0:1]\n",
    "    temp1 = attributes.loc[temp]\n",
    "\n",
    "#save 100 images for validation\n",
    "    if val_count<=100:\n",
    "        x_val.append(img_)\n",
    "        val_attributes = val_attributes.append(temp1, ignore_index = True)\n",
    "        cv.imwrite(os.path.join(path_val, img+'.jpg'), img_)\n",
    "        val_count = val_count + 1\n",
    "#save 100 images for testing\n",
    "    elif test_count<=100:\n",
    "        x_test.append(img_)\n",
    "        test_attributes = test_attributes.append(temp1, ignore_index = True)\n",
    "        cv.imwrite(os.path.join(path_test, img + '.jpg'), img_)\n",
    "        test_count = test_count + 1\n",
    "#save rest for training\n",
    "    else:\n",
    "        x_train.append(img_)\n",
    "        train_attributes = train_attributes.append(temp1, ignore_index = True)\n",
    "        cv.imwrite(os.path.join(path_train, img+'.jpg'), img_)\n",
    "        train_count = train_count + 1"
   ]
  },
  {
   "cell_type": "code",
   "execution_count": 46,
   "metadata": {},
   "outputs": [],
   "source": [
    "x_train = np.array(x_train)\n",
    "x_test = np.array(x_test)\n",
    "x_val = np.array(x_val)"
   ]
  },
  {
   "cell_type": "code",
   "execution_count": 47,
   "metadata": {},
   "outputs": [
    {
     "data": {
      "text/plain": [
       "((748, 300, 225, 3), (100, 300, 225, 3), (100, 300, 225, 3))"
      ]
     },
     "execution_count": 47,
     "metadata": {},
     "output_type": "execute_result"
    }
   ],
   "source": [
    "x_train.shape, x_test.shape, x_val.shape"
   ]
  },
  {
   "cell_type": "code",
   "execution_count": 48,
   "metadata": {},
   "outputs": [
    {
     "data": {
      "text/plain": [
       "(6.0    284\n",
       " 1.0     89\n",
       " 4.0     82\n",
       " 2.0     76\n",
       " 5.0     74\n",
       " 0.0     72\n",
       " 3.0     71\n",
       " Name: neck, dtype: int64,\n",
       " 3.0    452\n",
       " 1.0    125\n",
       " 2.0     97\n",
       " 0.0     74\n",
       " Name: sleeve_length, dtype: int64,\n",
       " 9.0    432\n",
       " 1.0    114\n",
       " 6.0     35\n",
       " 3.0     35\n",
       " 5.0     31\n",
       " 4.0     28\n",
       " 7.0     21\n",
       " 8.0     20\n",
       " 2.0     17\n",
       " 0.0     15\n",
       " Name: pattern, dtype: int64)"
      ]
     },
     "execution_count": 48,
     "metadata": {},
     "output_type": "execute_result"
    }
   ],
   "source": [
    "train_attributes['neck'].value_counts(), train_attributes['sleeve_length'].value_counts(),train_attributes['pattern'].value_counts()"
   ]
  },
  {
   "cell_type": "code",
   "execution_count": 49,
   "metadata": {},
   "outputs": [],
   "source": [
    "#save train, test, val split attributes csv\n",
    "train_attributes.to_csv('./split_data/'+'train_attributes.csv', index = False)\n",
    "test_attributes.to_csv('./split_data/'+'test_attributes.csv', index = False)\n",
    "val_attributes.to_csv('./split_data/'+'val_attributes.csv', index = False)"
   ]
  }
 ],
 "metadata": {
  "kernelspec": {
   "display_name": "Python 3",
   "language": "python",
   "name": "python3"
  },
  "language_info": {
   "codemirror_mode": {
    "name": "ipython",
    "version": 3
   },
   "file_extension": ".py",
   "mimetype": "text/x-python",
   "name": "python",
   "nbconvert_exporter": "python",
   "pygments_lexer": "ipython3",
   "version": "3.6.10"
  }
 },
 "nbformat": 4,
 "nbformat_minor": 4
}
