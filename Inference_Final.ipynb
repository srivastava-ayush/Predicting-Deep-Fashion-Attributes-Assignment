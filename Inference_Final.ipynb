{
 "cells": [
  {
   "cell_type": "code",
   "execution_count": 1,
   "metadata": {},
   "outputs": [
    {
     "name": "stderr",
     "output_type": "stream",
     "text": [
      "C:\\Users\\sayus\\miniconda3\\envs\\te\\lib\\site-packages\\tensorflow\\python\\framework\\dtypes.py:516: FutureWarning: Passing (type, 1) or '1type' as a synonym of type is deprecated; in a future version of numpy, it will be understood as (type, (1,)) / '(1,)type'.\n",
      "  _np_qint8 = np.dtype([(\"qint8\", np.int8, 1)])\n",
      "C:\\Users\\sayus\\miniconda3\\envs\\te\\lib\\site-packages\\tensorflow\\python\\framework\\dtypes.py:517: FutureWarning: Passing (type, 1) or '1type' as a synonym of type is deprecated; in a future version of numpy, it will be understood as (type, (1,)) / '(1,)type'.\n",
      "  _np_quint8 = np.dtype([(\"quint8\", np.uint8, 1)])\n",
      "C:\\Users\\sayus\\miniconda3\\envs\\te\\lib\\site-packages\\tensorflow\\python\\framework\\dtypes.py:518: FutureWarning: Passing (type, 1) or '1type' as a synonym of type is deprecated; in a future version of numpy, it will be understood as (type, (1,)) / '(1,)type'.\n",
      "  _np_qint16 = np.dtype([(\"qint16\", np.int16, 1)])\n",
      "C:\\Users\\sayus\\miniconda3\\envs\\te\\lib\\site-packages\\tensorflow\\python\\framework\\dtypes.py:519: FutureWarning: Passing (type, 1) or '1type' as a synonym of type is deprecated; in a future version of numpy, it will be understood as (type, (1,)) / '(1,)type'.\n",
      "  _np_quint16 = np.dtype([(\"quint16\", np.uint16, 1)])\n",
      "C:\\Users\\sayus\\miniconda3\\envs\\te\\lib\\site-packages\\tensorflow\\python\\framework\\dtypes.py:520: FutureWarning: Passing (type, 1) or '1type' as a synonym of type is deprecated; in a future version of numpy, it will be understood as (type, (1,)) / '(1,)type'.\n",
      "  _np_qint32 = np.dtype([(\"qint32\", np.int32, 1)])\n",
      "C:\\Users\\sayus\\miniconda3\\envs\\te\\lib\\site-packages\\tensorflow\\python\\framework\\dtypes.py:525: FutureWarning: Passing (type, 1) or '1type' as a synonym of type is deprecated; in a future version of numpy, it will be understood as (type, (1,)) / '(1,)type'.\n",
      "  np_resource = np.dtype([(\"resource\", np.ubyte, 1)])\n",
      "C:\\Users\\sayus\\miniconda3\\envs\\te\\lib\\site-packages\\tensorboard\\compat\\tensorflow_stub\\dtypes.py:541: FutureWarning: Passing (type, 1) or '1type' as a synonym of type is deprecated; in a future version of numpy, it will be understood as (type, (1,)) / '(1,)type'.\n",
      "  _np_qint8 = np.dtype([(\"qint8\", np.int8, 1)])\n",
      "C:\\Users\\sayus\\miniconda3\\envs\\te\\lib\\site-packages\\tensorboard\\compat\\tensorflow_stub\\dtypes.py:542: FutureWarning: Passing (type, 1) or '1type' as a synonym of type is deprecated; in a future version of numpy, it will be understood as (type, (1,)) / '(1,)type'.\n",
      "  _np_quint8 = np.dtype([(\"quint8\", np.uint8, 1)])\n",
      "C:\\Users\\sayus\\miniconda3\\envs\\te\\lib\\site-packages\\tensorboard\\compat\\tensorflow_stub\\dtypes.py:543: FutureWarning: Passing (type, 1) or '1type' as a synonym of type is deprecated; in a future version of numpy, it will be understood as (type, (1,)) / '(1,)type'.\n",
      "  _np_qint16 = np.dtype([(\"qint16\", np.int16, 1)])\n",
      "C:\\Users\\sayus\\miniconda3\\envs\\te\\lib\\site-packages\\tensorboard\\compat\\tensorflow_stub\\dtypes.py:544: FutureWarning: Passing (type, 1) or '1type' as a synonym of type is deprecated; in a future version of numpy, it will be understood as (type, (1,)) / '(1,)type'.\n",
      "  _np_quint16 = np.dtype([(\"quint16\", np.uint16, 1)])\n",
      "C:\\Users\\sayus\\miniconda3\\envs\\te\\lib\\site-packages\\tensorboard\\compat\\tensorflow_stub\\dtypes.py:545: FutureWarning: Passing (type, 1) or '1type' as a synonym of type is deprecated; in a future version of numpy, it will be understood as (type, (1,)) / '(1,)type'.\n",
      "  _np_qint32 = np.dtype([(\"qint32\", np.int32, 1)])\n",
      "C:\\Users\\sayus\\miniconda3\\envs\\te\\lib\\site-packages\\tensorboard\\compat\\tensorflow_stub\\dtypes.py:550: FutureWarning: Passing (type, 1) or '1type' as a synonym of type is deprecated; in a future version of numpy, it will be understood as (type, (1,)) / '(1,)type'.\n",
      "  np_resource = np.dtype([(\"resource\", np.ubyte, 1)])\n"
     ]
    }
   ],
   "source": [
    "#import necessary libraries\n",
    "import pandas as pd \n",
    "import os\n",
    "import cv2 as cv\n",
    "import numpy as np\n",
    "import tensorflow as tf\n",
    "from tensorflow.keras.utils import to_categorical"
   ]
  },
  {
   "cell_type": "code",
   "execution_count": 2,
   "metadata": {},
   "outputs": [],
   "source": [
    "#load test data\n",
    "x_test = []\n",
    "test_attributes = pd.read_csv('./split_data/test_attributes.csv')"
   ]
  },
  {
   "cell_type": "code",
   "execution_count": 3,
   "metadata": {},
   "outputs": [],
   "source": [
    "#load test images to array\n",
    "for index in test_attributes.index:\n",
    "    img_name = test_attributes['filename'][index]\n",
    "    img_ = cv.imread(os.path.join('./split_data/test', img_name + '.jpg'),1)\n",
    "    x_test.append(img_)"
   ]
  },
  {
   "cell_type": "code",
   "execution_count": 4,
   "metadata": {},
   "outputs": [],
   "source": [
    "y_test = test_attributes.drop('filename', axis = 1).values"
   ]
  },
  {
   "cell_type": "code",
   "execution_count": 5,
   "metadata": {},
   "outputs": [],
   "source": [
    "x_test = np.array(x_test)\n",
    "y_test = np.array(y_test)"
   ]
  },
  {
   "cell_type": "code",
   "execution_count": 6,
   "metadata": {},
   "outputs": [
    {
     "data": {
      "text/plain": [
       "((100, 300, 225, 3), (100, 3))"
      ]
     },
     "execution_count": 6,
     "metadata": {},
     "output_type": "execute_result"
    }
   ],
   "source": [
    "x_test.shape, y_test.shape"
   ]
  },
  {
   "cell_type": "code",
   "execution_count": 7,
   "metadata": {},
   "outputs": [],
   "source": [
    "#preprocess input\n",
    "x_test = tf.keras.applications.inception_v3.preprocess_input(x_test)"
   ]
  },
  {
   "cell_type": "code",
   "execution_count": 8,
   "metadata": {},
   "outputs": [],
   "source": [
    "#convert categorical classes to one hot encoded vector\n",
    "y_categorical_neck = to_categorical(y_test[:, 0], num_classes = 7)\n",
    "y_categorical_sleeve_length = to_categorical(y_test[:,1], num_classes = 4)\n",
    "y_categorical_pattern = to_categorical(y_test[:,2], num_classes = 10)"
   ]
  },
  {
   "cell_type": "code",
   "execution_count": 9,
   "metadata": {},
   "outputs": [],
   "source": [
    "#concatenate one hote encoded vectors\n",
    "y_test_final = np.append(y_categorical_neck, y_categorical_sleeve_length, axis = 1)"
   ]
  },
  {
   "cell_type": "code",
   "execution_count": 10,
   "metadata": {},
   "outputs": [],
   "source": [
    "y_test_final = np.append(y_test_final, y_categorical_pattern, axis = 1)"
   ]
  },
  {
   "cell_type": "code",
   "execution_count": 11,
   "metadata": {},
   "outputs": [
    {
     "data": {
      "text/plain": [
       "(100, 21)"
      ]
     },
     "execution_count": 11,
     "metadata": {},
     "output_type": "execute_result"
    }
   ],
   "source": [
    "y_test_final.shape"
   ]
  },
  {
   "cell_type": "code",
   "execution_count": 12,
   "metadata": {},
   "outputs": [],
   "source": [
    "from tensorflow.keras.models import load_model"
   ]
  },
  {
   "cell_type": "code",
   "execution_count": 13,
   "metadata": {},
   "outputs": [
    {
     "name": "stdout",
     "output_type": "stream",
     "text": [
      "WARNING:tensorflow:From C:\\Users\\sayus\\miniconda3\\envs\\te\\lib\\site-packages\\tensorflow\\python\\ops\\init_ops.py:97: calling GlorotUniform.__init__ (from tensorflow.python.ops.init_ops) with dtype is deprecated and will be removed in a future version.\n",
      "Instructions for updating:\n",
      "Call initializer instance with the dtype argument instead of passing it to the constructor\n",
      "WARNING:tensorflow:From C:\\Users\\sayus\\miniconda3\\envs\\te\\lib\\site-packages\\tensorflow\\python\\ops\\init_ops.py:1251: calling VarianceScaling.__init__ (from tensorflow.python.ops.init_ops) with dtype is deprecated and will be removed in a future version.\n",
      "Instructions for updating:\n",
      "Call initializer instance with the dtype argument instead of passing it to the constructor\n",
      "WARNING:tensorflow:From C:\\Users\\sayus\\miniconda3\\envs\\te\\lib\\site-packages\\tensorflow\\python\\ops\\init_ops.py:97: calling Zeros.__init__ (from tensorflow.python.ops.init_ops) with dtype is deprecated and will be removed in a future version.\n",
      "Instructions for updating:\n",
      "Call initializer instance with the dtype argument instead of passing it to the constructor\n",
      "WARNING:tensorflow:From C:\\Users\\sayus\\miniconda3\\envs\\te\\lib\\site-packages\\tensorflow\\python\\ops\\init_ops.py:97: calling Ones.__init__ (from tensorflow.python.ops.init_ops) with dtype is deprecated and will be removed in a future version.\n",
      "Instructions for updating:\n",
      "Call initializer instance with the dtype argument instead of passing it to the constructor\n",
      "WARNING:tensorflow:From C:\\Users\\sayus\\miniconda3\\envs\\te\\lib\\site-packages\\tensorflow\\python\\ops\\nn_impl.py:180: add_dispatch_support.<locals>.wrapper (from tensorflow.python.ops.array_ops) is deprecated and will be removed in a future version.\n",
      "Instructions for updating:\n",
      "Use tf.where in 2.0, which has the same broadcast rule as np.where\n"
     ]
    }
   ],
   "source": [
    "#load the saved model with best accuracy\n",
    "model = load_model('Best_Accuracy_Model.h5')"
   ]
  },
  {
   "cell_type": "code",
   "execution_count": 14,
   "metadata": {},
   "outputs": [
    {
     "name": "stdout",
     "output_type": "stream",
     "text": [
      "100/100 [==============================] - 2s 15ms/sample - loss: 0.3055 - acc: 0.8824\n"
     ]
    }
   ],
   "source": [
    "#predict and evaluate\n",
    "predictions = model.predict(x_test)\n",
    "evaluation = model.evaluate(x_test, y_test_final)"
   ]
  },
  {
   "cell_type": "code",
   "execution_count": 15,
   "metadata": {},
   "outputs": [
    {
     "data": {
      "text/plain": [
       "array([0.05229759, 0.0844996 , 0.01564622, 0.02732173, 0.10445148,\n",
       "       0.03314269, 0.5448709 ], dtype=float32)"
      ]
     },
     "execution_count": 15,
     "metadata": {},
     "output_type": "execute_result"
    }
   ],
   "source": [
    "predictions[:,0:7][0]"
   ]
  },
  {
   "cell_type": "code",
   "execution_count": 16,
   "metadata": {},
   "outputs": [],
   "source": [
    "neck_predictions = predictions[:,0:7]\n",
    "sleeve_length_predictions = predictions[:,7:11]\n",
    "pattern_predictions = predictions[:,11:21]"
   ]
  },
  {
   "cell_type": "code",
   "execution_count": 17,
   "metadata": {},
   "outputs": [
    {
     "data": {
      "text/plain": [
       "((100, 7), (100, 7))"
      ]
     },
     "execution_count": 17,
     "metadata": {},
     "output_type": "execute_result"
    }
   ],
   "source": [
    "neck_predictions.shape, y_categorical_neck.shape"
   ]
  },
  {
   "cell_type": "code",
   "execution_count": 18,
   "metadata": {},
   "outputs": [],
   "source": [
    "#convert to original form, by taking softmax function then reducing to categorical form to analyse predictions\n",
    "neck_predictions = np.exp(neck_predictions)\n",
    "sleeve_length_predictions = np.exp(sleeve_length_predictions)\n",
    "pattern_predictions = np.exp(pattern_predictions)"
   ]
  },
  {
   "cell_type": "code",
   "execution_count": 19,
   "metadata": {},
   "outputs": [],
   "source": [
    "neck_predictions_divide = neck_predictions.sum(axis = 1).reshape(100,1)\n",
    "sleeve_length_predictions_divide = sleeve_length_predictions.sum(axis = 1).reshape(100,1)\n",
    "pattern_prediction_divide = pattern_predictions.sum(axis = 1).reshape(100,1)"
   ]
  },
  {
   "cell_type": "code",
   "execution_count": 20,
   "metadata": {},
   "outputs": [],
   "source": [
    "neck_prediction = neck_predictions/neck_predictions_divide\n",
    "sleeve_length_predictions = sleeve_length_predictions/sleeve_length_predictions_divide\n",
    "pattern_predictions = pattern_predictions/pattern_prediction_divide"
   ]
  },
  {
   "cell_type": "code",
   "execution_count": 21,
   "metadata": {},
   "outputs": [],
   "source": [
    "#convert softmax probabilities to one hot encodings\n",
    "neck_predictions = (neck_predictions == neck_predictions.max(axis=1)[:,None]).astype(int)\n",
    "sleeve_length_predictions = (sleeve_length_predictions == sleeve_length_predictions.max(axis=1)[:,None]).astype(int)\n",
    "pattern_predictions = (pattern_predictions == pattern_predictions.max(axis=1)[:,None]).astype(int)"
   ]
  },
  {
   "cell_type": "code",
   "execution_count": 22,
   "metadata": {},
   "outputs": [],
   "source": [
    "from sklearn.metrics import confusion_matrix"
   ]
  },
  {
   "cell_type": "code",
   "execution_count": 23,
   "metadata": {},
   "outputs": [],
   "source": [
    "#convert to categorical from one hot encoding\n",
    "neck_predictions = neck_predictions.argmax(axis = 1)\n",
    "sleeve_length_predictions = sleeve_length_predictions.argmax(axis = 1)\n",
    "pattern_predictions = pattern_predictions.argmax(axis = 1)"
   ]
  },
  {
   "cell_type": "code",
   "execution_count": 24,
   "metadata": {},
   "outputs": [
    {
     "data": {
      "text/plain": [
       "((100,), (100,))"
      ]
     },
     "execution_count": 24,
     "metadata": {},
     "output_type": "execute_result"
    }
   ],
   "source": [
    "neck_predictions.shape, y_test[:,0].shape"
   ]
  },
  {
   "cell_type": "code",
   "execution_count": 25,
   "metadata": {},
   "outputs": [
    {
     "data": {
      "text/plain": [
       "array([[ 0,  0,  1,  0,  0,  0,  9],\n",
       "       [ 0,  0,  1,  0,  0,  0, 10],\n",
       "       [ 1,  0,  4,  2,  0,  0,  3],\n",
       "       [ 0,  0,  7,  3,  0,  0,  3],\n",
       "       [ 0,  0,  1,  1,  1,  0, 14],\n",
       "       [ 0,  0,  5,  0,  0,  0,  4],\n",
       "       [ 1,  1,  6,  1,  0,  0, 21]], dtype=int64)"
      ]
     },
     "execution_count": 25,
     "metadata": {},
     "output_type": "execute_result"
    }
   ],
   "source": [
    "#confusion matrix for neck attribute\n",
    "confusion_matrix(y_test[:,0], neck_predictions)"
   ]
  },
  {
   "cell_type": "code",
   "execution_count": 26,
   "metadata": {},
   "outputs": [
    {
     "data": {
      "text/plain": [
       "array([[ 1,  0,  0,  9],\n",
       "       [ 0,  0,  1, 17],\n",
       "       [ 0,  0,  8,  3],\n",
       "       [ 0,  3,  3, 55]], dtype=int64)"
      ]
     },
     "execution_count": 26,
     "metadata": {},
     "output_type": "execute_result"
    }
   ],
   "source": [
    "#confusion matrix for sleeve_length attribute\n",
    "confusion_matrix(y_test[:,1], sleeve_length_predictions)"
   ]
  },
  {
   "cell_type": "code",
   "execution_count": 27,
   "metadata": {},
   "outputs": [
    {
     "data": {
      "text/plain": [
       "array([[ 0,  0,  0,  0,  0,  0,  0,  0,  1],\n",
       "       [ 0,  1,  0,  0,  0,  0,  0,  0, 16],\n",
       "       [ 0,  0,  0,  0,  1,  0,  0,  0,  5],\n",
       "       [ 0,  0,  0,  0,  0,  0,  0,  0,  3],\n",
       "       [ 0,  0,  0,  0,  0,  0,  0,  0,  1],\n",
       "       [ 0,  0,  0,  0,  0,  0,  0,  0,  4],\n",
       "       [ 0,  0,  0,  0,  0,  0,  0,  0,  1],\n",
       "       [ 0,  0,  0,  1,  0,  0,  0,  0,  3],\n",
       "       [ 0,  1,  0,  1,  1,  0,  0,  0, 60]], dtype=int64)"
      ]
     },
     "execution_count": 27,
     "metadata": {},
     "output_type": "execute_result"
    }
   ],
   "source": [
    "#confusion matrix for pattern attribute\n",
    "confusion_matrix(y_test[:,2], pattern_predictions)"
   ]
  },
  {
   "cell_type": "code",
   "execution_count": 28,
   "metadata": {},
   "outputs": [],
   "source": [
    "#create dataframe of final predictions\n",
    "final_predictions = pd.DataFrame(columns = test_attributes.columns)"
   ]
  },
  {
   "cell_type": "code",
   "execution_count": 29,
   "metadata": {},
   "outputs": [],
   "source": [
    "final_predictions['filename'] = test_attributes['filename']"
   ]
  },
  {
   "cell_type": "code",
   "execution_count": 30,
   "metadata": {},
   "outputs": [
    {
     "data": {
      "text/html": [
       "<div>\n",
       "<style scoped>\n",
       "    .dataframe tbody tr th:only-of-type {\n",
       "        vertical-align: middle;\n",
       "    }\n",
       "\n",
       "    .dataframe tbody tr th {\n",
       "        vertical-align: top;\n",
       "    }\n",
       "\n",
       "    .dataframe thead th {\n",
       "        text-align: right;\n",
       "    }\n",
       "</style>\n",
       "<table border=\"1\" class=\"dataframe\">\n",
       "  <thead>\n",
       "    <tr style=\"text-align: right;\">\n",
       "      <th></th>\n",
       "      <th>filename</th>\n",
       "      <th>neck</th>\n",
       "      <th>sleeve_length</th>\n",
       "      <th>pattern</th>\n",
       "    </tr>\n",
       "  </thead>\n",
       "  <tbody>\n",
       "    <tr>\n",
       "      <th>0</th>\n",
       "      <td>11489747587291-Alcis-Men-Tshirts-6148974758719...</td>\n",
       "      <td>NaN</td>\n",
       "      <td>NaN</td>\n",
       "      <td>NaN</td>\n",
       "    </tr>\n",
       "    <tr>\n",
       "      <th>1</th>\n",
       "      <td>11489747633143-Alcis-Men-Tshirts-3791489747632...</td>\n",
       "      <td>NaN</td>\n",
       "      <td>NaN</td>\n",
       "      <td>NaN</td>\n",
       "    </tr>\n",
       "    <tr>\n",
       "      <th>2</th>\n",
       "      <td>11490005406481-Fort-Collins-Men-Red-Printed-Ma...</td>\n",
       "      <td>NaN</td>\n",
       "      <td>NaN</td>\n",
       "      <td>NaN</td>\n",
       "    </tr>\n",
       "    <tr>\n",
       "      <th>3</th>\n",
       "      <td>11490090151435-HRX-by-Hrithik-Roshan-Men-Black...</td>\n",
       "      <td>NaN</td>\n",
       "      <td>NaN</td>\n",
       "      <td>NaN</td>\n",
       "    </tr>\n",
       "    <tr>\n",
       "      <th>4</th>\n",
       "      <td>11490246959933-Louis-Philippe-Men-Cream-Printe...</td>\n",
       "      <td>NaN</td>\n",
       "      <td>NaN</td>\n",
       "      <td>NaN</td>\n",
       "    </tr>\n",
       "    <tr>\n",
       "      <th>...</th>\n",
       "      <td>...</td>\n",
       "      <td>...</td>\n",
       "      <td>...</td>\n",
       "      <td>...</td>\n",
       "    </tr>\n",
       "    <tr>\n",
       "      <th>95</th>\n",
       "      <td>11503394425849-LOCOMOTIVE-Men-Blue-Printed-Hen...</td>\n",
       "      <td>NaN</td>\n",
       "      <td>NaN</td>\n",
       "      <td>NaN</td>\n",
       "    </tr>\n",
       "    <tr>\n",
       "      <th>96</th>\n",
       "      <td>11503397290325-LOCOMOTIVE-Men-Blue-Printed-Rou...</td>\n",
       "      <td>NaN</td>\n",
       "      <td>NaN</td>\n",
       "      <td>NaN</td>\n",
       "    </tr>\n",
       "    <tr>\n",
       "      <th>97</th>\n",
       "      <td>11503484722306-American-Crew-Men-Grey-Striped-...</td>\n",
       "      <td>NaN</td>\n",
       "      <td>NaN</td>\n",
       "      <td>NaN</td>\n",
       "    </tr>\n",
       "    <tr>\n",
       "      <th>98</th>\n",
       "      <td>11503489114697-Adidas-Originals-Men-Peach-Colo...</td>\n",
       "      <td>NaN</td>\n",
       "      <td>NaN</td>\n",
       "      <td>NaN</td>\n",
       "    </tr>\n",
       "    <tr>\n",
       "      <th>99</th>\n",
       "      <td>11503548832214-Adidas-NEO-Men-Tshirts-97615035...</td>\n",
       "      <td>NaN</td>\n",
       "      <td>NaN</td>\n",
       "      <td>NaN</td>\n",
       "    </tr>\n",
       "  </tbody>\n",
       "</table>\n",
       "<p>100 rows × 4 columns</p>\n",
       "</div>"
      ],
      "text/plain": [
       "                                             filename neck sleeve_length  \\\n",
       "0   11489747587291-Alcis-Men-Tshirts-6148974758719...  NaN           NaN   \n",
       "1   11489747633143-Alcis-Men-Tshirts-3791489747632...  NaN           NaN   \n",
       "2   11490005406481-Fort-Collins-Men-Red-Printed-Ma...  NaN           NaN   \n",
       "3   11490090151435-HRX-by-Hrithik-Roshan-Men-Black...  NaN           NaN   \n",
       "4   11490246959933-Louis-Philippe-Men-Cream-Printe...  NaN           NaN   \n",
       "..                                                ...  ...           ...   \n",
       "95  11503394425849-LOCOMOTIVE-Men-Blue-Printed-Hen...  NaN           NaN   \n",
       "96  11503397290325-LOCOMOTIVE-Men-Blue-Printed-Rou...  NaN           NaN   \n",
       "97  11503484722306-American-Crew-Men-Grey-Striped-...  NaN           NaN   \n",
       "98  11503489114697-Adidas-Originals-Men-Peach-Colo...  NaN           NaN   \n",
       "99  11503548832214-Adidas-NEO-Men-Tshirts-97615035...  NaN           NaN   \n",
       "\n",
       "   pattern  \n",
       "0      NaN  \n",
       "1      NaN  \n",
       "2      NaN  \n",
       "3      NaN  \n",
       "4      NaN  \n",
       "..     ...  \n",
       "95     NaN  \n",
       "96     NaN  \n",
       "97     NaN  \n",
       "98     NaN  \n",
       "99     NaN  \n",
       "\n",
       "[100 rows x 4 columns]"
      ]
     },
     "execution_count": 30,
     "metadata": {},
     "output_type": "execute_result"
    }
   ],
   "source": [
    "final_predictions"
   ]
  },
  {
   "cell_type": "code",
   "execution_count": 31,
   "metadata": {},
   "outputs": [],
   "source": [
    "#add predicted values to dataframe\n",
    "final_predictions['neck'] = neck_predictions\n",
    "final_predictions['sleeve_length'] = sleeve_length_predictions\n",
    "final_predictions['pattern'] = pattern_predictions"
   ]
  },
  {
   "cell_type": "code",
   "execution_count": 32,
   "metadata": {},
   "outputs": [
    {
     "data": {
      "text/html": [
       "<div>\n",
       "<style scoped>\n",
       "    .dataframe tbody tr th:only-of-type {\n",
       "        vertical-align: middle;\n",
       "    }\n",
       "\n",
       "    .dataframe tbody tr th {\n",
       "        vertical-align: top;\n",
       "    }\n",
       "\n",
       "    .dataframe thead th {\n",
       "        text-align: right;\n",
       "    }\n",
       "</style>\n",
       "<table border=\"1\" class=\"dataframe\">\n",
       "  <thead>\n",
       "    <tr style=\"text-align: right;\">\n",
       "      <th></th>\n",
       "      <th>filename</th>\n",
       "      <th>neck</th>\n",
       "      <th>sleeve_length</th>\n",
       "      <th>pattern</th>\n",
       "    </tr>\n",
       "  </thead>\n",
       "  <tbody>\n",
       "    <tr>\n",
       "      <th>0</th>\n",
       "      <td>11489747587291-Alcis-Men-Tshirts-6148974758719...</td>\n",
       "      <td>6</td>\n",
       "      <td>2</td>\n",
       "      <td>9</td>\n",
       "    </tr>\n",
       "    <tr>\n",
       "      <th>1</th>\n",
       "      <td>11489747633143-Alcis-Men-Tshirts-3791489747632...</td>\n",
       "      <td>6</td>\n",
       "      <td>2</td>\n",
       "      <td>9</td>\n",
       "    </tr>\n",
       "    <tr>\n",
       "      <th>2</th>\n",
       "      <td>11490005406481-Fort-Collins-Men-Red-Printed-Ma...</td>\n",
       "      <td>6</td>\n",
       "      <td>2</td>\n",
       "      <td>9</td>\n",
       "    </tr>\n",
       "    <tr>\n",
       "      <th>3</th>\n",
       "      <td>11490090151435-HRX-by-Hrithik-Roshan-Men-Black...</td>\n",
       "      <td>6</td>\n",
       "      <td>2</td>\n",
       "      <td>9</td>\n",
       "    </tr>\n",
       "    <tr>\n",
       "      <th>4</th>\n",
       "      <td>11490246959933-Louis-Philippe-Men-Cream-Printe...</td>\n",
       "      <td>1</td>\n",
       "      <td>3</td>\n",
       "      <td>4</td>\n",
       "    </tr>\n",
       "    <tr>\n",
       "      <th>...</th>\n",
       "      <td>...</td>\n",
       "      <td>...</td>\n",
       "      <td>...</td>\n",
       "      <td>...</td>\n",
       "    </tr>\n",
       "    <tr>\n",
       "      <th>95</th>\n",
       "      <td>11503394425849-LOCOMOTIVE-Men-Blue-Printed-Hen...</td>\n",
       "      <td>2</td>\n",
       "      <td>3</td>\n",
       "      <td>9</td>\n",
       "    </tr>\n",
       "    <tr>\n",
       "      <th>96</th>\n",
       "      <td>11503397290325-LOCOMOTIVE-Men-Blue-Printed-Rou...</td>\n",
       "      <td>6</td>\n",
       "      <td>3</td>\n",
       "      <td>9</td>\n",
       "    </tr>\n",
       "    <tr>\n",
       "      <th>97</th>\n",
       "      <td>11503484722306-American-Crew-Men-Grey-Striped-...</td>\n",
       "      <td>3</td>\n",
       "      <td>3</td>\n",
       "      <td>9</td>\n",
       "    </tr>\n",
       "    <tr>\n",
       "      <th>98</th>\n",
       "      <td>11503489114697-Adidas-Originals-Men-Peach-Colo...</td>\n",
       "      <td>2</td>\n",
       "      <td>3</td>\n",
       "      <td>9</td>\n",
       "    </tr>\n",
       "    <tr>\n",
       "      <th>99</th>\n",
       "      <td>11503548832214-Adidas-NEO-Men-Tshirts-97615035...</td>\n",
       "      <td>2</td>\n",
       "      <td>3</td>\n",
       "      <td>9</td>\n",
       "    </tr>\n",
       "  </tbody>\n",
       "</table>\n",
       "<p>100 rows × 4 columns</p>\n",
       "</div>"
      ],
      "text/plain": [
       "                                             filename  neck  sleeve_length  \\\n",
       "0   11489747587291-Alcis-Men-Tshirts-6148974758719...     6              2   \n",
       "1   11489747633143-Alcis-Men-Tshirts-3791489747632...     6              2   \n",
       "2   11490005406481-Fort-Collins-Men-Red-Printed-Ma...     6              2   \n",
       "3   11490090151435-HRX-by-Hrithik-Roshan-Men-Black...     6              2   \n",
       "4   11490246959933-Louis-Philippe-Men-Cream-Printe...     1              3   \n",
       "..                                                ...   ...            ...   \n",
       "95  11503394425849-LOCOMOTIVE-Men-Blue-Printed-Hen...     2              3   \n",
       "96  11503397290325-LOCOMOTIVE-Men-Blue-Printed-Rou...     6              3   \n",
       "97  11503484722306-American-Crew-Men-Grey-Striped-...     3              3   \n",
       "98  11503489114697-Adidas-Originals-Men-Peach-Colo...     2              3   \n",
       "99  11503548832214-Adidas-NEO-Men-Tshirts-97615035...     2              3   \n",
       "\n",
       "    pattern  \n",
       "0         9  \n",
       "1         9  \n",
       "2         9  \n",
       "3         9  \n",
       "4         4  \n",
       "..      ...  \n",
       "95        9  \n",
       "96        9  \n",
       "97        9  \n",
       "98        9  \n",
       "99        9  \n",
       "\n",
       "[100 rows x 4 columns]"
      ]
     },
     "execution_count": 32,
     "metadata": {},
     "output_type": "execute_result"
    }
   ],
   "source": [
    "final_predictions"
   ]
  },
  {
   "cell_type": "code",
   "execution_count": 33,
   "metadata": {},
   "outputs": [],
   "source": [
    "#save the final predictions\n",
    "final_predictions.to_csv('test_predictions.csv', index = False)"
   ]
  }
 ],
 "metadata": {
  "kernelspec": {
   "display_name": "Python 3",
   "language": "python",
   "name": "python3"
  },
  "language_info": {
   "codemirror_mode": {
    "name": "ipython",
    "version": 3
   },
   "file_extension": ".py",
   "mimetype": "text/x-python",
   "name": "python",
   "nbconvert_exporter": "python",
   "pygments_lexer": "ipython3",
   "version": "3.6.10"
  }
 },
 "nbformat": 4,
 "nbformat_minor": 4
}
